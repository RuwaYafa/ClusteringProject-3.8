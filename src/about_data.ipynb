{
 "cells": [
  {
   "metadata": {
    "collapsed": true,
    "jupyter": {
     "is_executing": true
    }
   },
   "cell_type": "code",
   "outputs": [],
   "execution_count": null,
   "source": [
    "# Import required libraries\n",
    "import numpy as np\n",
    "import pandas as pd\n",
    "from src.utils.download_datasets import download_datasets\n",
    "datasets = download_datasets()\n",
    "from sklearn.preprocessing import StandardScaler\n"
   ],
   "id": "initial_id"
  },
  {
   "metadata": {
    "jupyter": {
     "is_executing": true
    }
   },
   "cell_type": "code",
   "outputs": [],
   "execution_count": null,
   "source": [
    "# Main Process //work on Python 3.12 not 3.8\n",
    "df_DS = {}\n",
    "for name in datasets: # Use k_val to avoid conflict with global k\n",
    "    # dataset to df\n",
    "    print(f\"\\n@---- ||||||||||||| {name} Dataset ||||||||||||| ----@\\n\")\n",
    "\n",
    "    \"\"\"\n",
    "    Data_out -high D\n",
    "    \"\"\"\n",
    "    path = f'../data/{name}.csv'\n",
    "    # path = f'../data_out/{name}.csv'\n",
    "\n",
    "    df = pd.read_csv(path)\n",
    "    X = df.values[:, :-1]  # Features ( last column is label for all datasets)\n",
    "    y = df.values[:, -1] if df.shape[1] > 1 else None  # Labels if exist\n",
    "\n",
    "    df_DS[name] = {}\n",
    "    df_DS[name]['df'] = df\n",
    "    df_DS[name]['X'] = X\n",
    "    df_DS[name]['y'] = y\n",
    "    df_DS[name]['X_scaled'] = StandardScaler().fit_transform(df_DS[name]['X'])\n",
    "\n",
    "    \"\"\"\n",
    "    Saved in DS-information.log\n",
    "    \"\"\"\n",
    "    print(f\"\\n\\n\\n\\n@----{name} Dataset information:\"\n",
    "                f\"\\n@---- shape: {df_DS[name]['X_scaled'].shape}.\"\n",
    "                f\"\\n@---- {len(np.unique(df_DS[name]['y']))} Classes: {np.unique(df_DS[name]['y'])}.\"\n",
    "                f\"\\n@---- Features: {len(df.columns)-1}.\\n\"\n",
    "                f\"----------------------------------------------------------------\"\n",
    "                f\"\\n@---- Description: \\n{df.describe()}.\\n\")"
   ],
   "id": "76fafb4cd01b3069"
  }
 ],
 "metadata": {
  "kernelspec": {
   "display_name": "Python 3",
   "language": "python",
   "name": "python3"
  },
  "language_info": {
   "codemirror_mode": {
    "name": "ipython",
    "version": 2
   },
   "file_extension": ".py",
   "mimetype": "text/x-python",
   "name": "python",
   "nbconvert_exporter": "python",
   "pygments_lexer": "ipython2",
   "version": "2.7.6"
  }
 },
 "nbformat": 4,
 "nbformat_minor": 5
}
